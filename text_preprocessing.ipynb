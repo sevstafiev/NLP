{
 "cells": [
  {
   "cell_type": "markdown",
   "metadata": {
    "id": "3PcL7r1hqySq"
   },
   "source": [
    "## Предобработка текста"
   ]
  },
  {
   "cell_type": "code",
   "execution_count": 3,
   "metadata": {
    "executionInfo": {
     "elapsed": 3229,
     "status": "ok",
     "timestamp": 1601310725706,
     "user": {
      "displayName": "Антон Геннадьевич Астахов",
      "photoUrl": "",
      "userId": "01331619065984010235"
     },
     "user_tz": -180
    },
    "id": "GlTJp0h2q9px"
   },
   "outputs": [],
   "source": [
    "import nltk\n",
    "import spacy\n",
    "import re"
   ]
  },
  {
   "cell_type": "markdown",
   "metadata": {
    "id": "Wn8EWAjnr18g"
   },
   "source": [
    "### Токенизация"
   ]
  },
  {
   "cell_type": "code",
   "execution_count": 16,
   "metadata": {
    "colab": {
     "base_uri": "https://localhost:8080/",
     "height": 53
    },
    "executionInfo": {
     "elapsed": 2191,
     "status": "ok",
     "timestamp": 1601310739685,
     "user": {
      "displayName": "Антон Геннадьевич Астахов",
      "photoUrl": "",
      "userId": "01331619065984010235"
     },
     "user_tz": -180
    },
    "id": "btBdBLxbgrNV",
    "outputId": "0d7a3a4f-db38-485d-d013-ab3be390247e"
   },
   "outputs": [
    {
     "name": "stderr",
     "output_type": "stream",
     "text": [
      "[nltk_data] Downloading package punkt to\n",
      "[nltk_data]     C:\\Users\\evsta\\AppData\\Roaming\\nltk_data...\n",
      "[nltk_data]   Package punkt is already up-to-date!\n"
     ]
    }
   ],
   "source": [
    "nltk.download('punkt')\n",
    "from nltk.tokenize import word_tokenize, sent_tokenize"
   ]
  },
  {
   "cell_type": "code",
   "execution_count": 17,
   "metadata": {
    "colab": {
     "base_uri": "https://localhost:8080/",
     "height": 35
    },
    "executionInfo": {
     "elapsed": 671,
     "status": "ok",
     "timestamp": 1601310792361,
     "user": {
      "displayName": "Антон Геннадьевич Астахов",
      "photoUrl": "",
      "userId": "01331619065984010235"
     },
     "user_tz": -180
    },
    "id": "eq-QOD9NlO_Q",
    "outputId": "9d82478e-5d59-42b3-e708-8e3f8ff9fa56"
   },
   "outputs": [
    {
     "name": "stdout",
     "output_type": "stream",
     "text": [
      "['all', 'work', 'and', 'no', 'play', 'makes', 'jack', 'a', 'dull', 'boy', ',', 'all', 'work', 'and', 'no', 'play']\n"
     ]
    }
   ],
   "source": [
    "data = \"All work and no play makes jack a dull boy, all work and no play\"\n",
    "tokens = word_tokenize(data.lower())\n",
    "print(tokens)"
   ]
  },
  {
   "cell_type": "code",
   "execution_count": 18,
   "metadata": {
    "colab": {
     "base_uri": "https://localhost:8080/",
     "height": 35
    },
    "executionInfo": {
     "elapsed": 635,
     "status": "ok",
     "timestamp": 1601310810346,
     "user": {
      "displayName": "Антон Геннадьевич Астахов",
      "photoUrl": "",
      "userId": "01331619065984010235"
     },
     "user_tz": -180
    },
    "id": "eFDKUzkS6Mci",
    "outputId": "cd184700-1471-4e66-9a64-4aeea0ad82f2"
   },
   "outputs": [
    {
     "name": "stdout",
     "output_type": "stream",
     "text": [
      "['I was going home when she rung.', 'It was a surprise.']\n"
     ]
    }
   ],
   "source": [
    "print(sent_tokenize(\"I was going home when she rung. It was a surprise.\"))"
   ]
  },
  {
   "cell_type": "markdown",
   "metadata": {
    "id": "Mz0wIRkRswOQ"
   },
   "source": [
    "### Удаление неинформативных слов"
   ]
  },
  {
   "cell_type": "markdown",
   "metadata": {
    "id": "trdPOBM2jEMf"
   },
   "source": [
    "#### N-граммы\n",
    "\n",
    "<img src=\"https://res.cloudinary.com/practicaldev/image/fetch/s--466CQV1q--/c_limit%2Cf_auto%2Cfl_progressive%2Cq_66%2Cw_880/https://thepracticaldev.s3.amazonaws.com/i/78nf1vryed8h1tz05fim.gif\" height=400>"
   ]
  },
  {
   "cell_type": "code",
   "execution_count": 5,
   "metadata": {
    "colab": {
     "base_uri": "https://localhost:8080/",
     "height": 53
    },
    "executionInfo": {
     "elapsed": 568,
     "status": "ok",
     "timestamp": 1601311003649,
     "user": {
      "displayName": "Антон Геннадьевич Астахов",
      "photoUrl": "",
      "userId": "01331619065984010235"
     },
     "user_tz": -180
    },
    "id": "YYEBfCxLic3R",
    "outputId": "2e27f6da-28dd-4a32-cedf-7d67eda6dfab"
   },
   "outputs": [
    {
     "name": "stdout",
     "output_type": "stream",
     "text": [
      "[('all',), ('work',), ('and',), ('no',), ('play',)]\n",
      "[('all', 'work'), ('work', 'and'), ('and', 'no'), ('no', 'play'), ('play', 'makes')]\n"
     ]
    }
   ],
   "source": [
    "unigram = list(nltk.ngrams(tokens, 1))\n",
    "bigram = list(nltk.ngrams(tokens, 2))\n",
    "print(unigram[:5])\n",
    "print(bigram[:5])"
   ]
  },
  {
   "cell_type": "code",
   "execution_count": 6,
   "metadata": {
    "colab": {
     "base_uri": "https://localhost:8080/",
     "height": 53
    },
    "executionInfo": {
     "elapsed": 610,
     "status": "ok",
     "timestamp": 1601311039234,
     "user": {
      "displayName": "Антон Геннадьевич Астахов",
      "photoUrl": "",
      "userId": "01331619065984010235"
     },
     "user_tz": -180
    },
    "id": "1AFeZqejmWwN",
    "outputId": "31532065-165b-46dc-e034-83b787429903"
   },
   "outputs": [
    {
     "name": "stdout",
     "output_type": "stream",
     "text": [
      "Популярные униграммы:  [(('all',), 2), (('work',), 2), (('and',), 2), (('no',), 2), (('play',), 2)]\n",
      "Популярные биграммы:  [(('all', 'work'), 2), (('work', 'and'), 2), (('and', 'no'), 2), (('no', 'play'), 2), (('play', 'makes'), 1)]\n"
     ]
    }
   ],
   "source": [
    "from nltk import FreqDist\n",
    "print('Популярные униграммы: ', FreqDist(unigram).most_common(5))\n",
    "print('Популярные биграммы: ', FreqDist(bigram).most_common(5))"
   ]
  },
  {
   "cell_type": "markdown",
   "metadata": {
    "id": "3W3jJ56hnBFu"
   },
   "source": [
    "#### Стоп-слова"
   ]
  },
  {
   "cell_type": "code",
   "execution_count": 7,
   "metadata": {
    "colab": {
     "base_uri": "https://localhost:8080/",
     "height": 53
    },
    "executionInfo": {
     "elapsed": 660,
     "status": "ok",
     "timestamp": 1601311209297,
     "user": {
      "displayName": "Антон Геннадьевич Астахов",
      "photoUrl": "",
      "userId": "01331619065984010235"
     },
     "user_tz": -180
    },
    "id": "sIBwQ3nBnEfV",
    "outputId": "2c442e74-d479-4c7d-c279-c8f460362d1e"
   },
   "outputs": [
    {
     "name": "stdout",
     "output_type": "stream",
     "text": [
      "[nltk_data] Downloading package stopwords to /root/nltk_data...\n",
      "[nltk_data]   Unzipping corpora/stopwords.zip.\n"
     ]
    }
   ],
   "source": [
    "nltk.download('stopwords')\n",
    "from nltk.corpus import stopwords"
   ]
  },
  {
   "cell_type": "code",
   "execution_count": 8,
   "metadata": {
    "colab": {
     "base_uri": "https://localhost:8080/",
     "height": 55
    },
    "executionInfo": {
     "elapsed": 659,
     "status": "ok",
     "timestamp": 1601311217400,
     "user": {
      "displayName": "Антон Геннадьевич Астахов",
      "photoUrl": "",
      "userId": "01331619065984010235"
     },
     "user_tz": -180
    },
    "id": "o1nk-TqEslRl",
    "outputId": "21346d7c-7eb5-4730-cd77-6cb26119dd58"
   },
   "outputs": [
    {
     "name": "stdout",
     "output_type": "stream",
     "text": [
      "{\"mustn't\", 'am', 'why', 'mightn', 'o', 'on', 'herself', 'have', 'because', 'has', 'hadn', \"it's\", 'just', 'not', 'hers', 'nor', 'that', 'now', 'did', \"wouldn't\", 't', 'while', 'been', 'once', 'against', 'above', 'most', 'your', 'down', 'very', 'off', \"mightn't\", 'those', 'wasn', \"you've\", 'until', 'whom', 'shouldn', 'then', 'up', \"won't\", 'all', 'me', 'below', 's', 'yourselves', \"you'd\", 'themselves', 'hasn', 'needn', 'after', 'other', 'there', \"should've\", 'had', 'only', 'same', \"isn't\", 'doesn', 'and', 've', \"couldn't\", 'each', 'aren', 'ma', 'himself', 'the', 'for', 'in', 'don', 'at', 'being', 'you', 'from', 're', 'a', 'are', 'does', 'own', 'such', 'his', \"aren't\", 'if', 'is', 'we', 'her', 'of', 'both', 'she', 'so', 'm', \"doesn't\", \"you'll\", 'having', 'by', 'doing', 'than', \"shan't\", 'can', 'an', \"you're\", 'under', 'but', 'when', 'our', 'with', \"needn't\", 'do', 'isn', 'he', 'haven', 'be', 'here', 'yourself', 'some', 'shan', \"wasn't\", 'they', 'should', 'which', 'theirs', 'what', 'out', 'my', 'no', \"weren't\", 'again', 'or', 'more', 'them', 'over', \"shouldn't\", 'yours', 'myself', 'to', 'these', 'where', 'won', 'this', 'few', 'between', 'through', 'too', 'will', 'couldn', \"she's\", 'weren', \"don't\", 'wouldn', 'their', 'll', 'ain', 'how', \"that'll\", 'd', 'i', \"hadn't\", 'during', 'him', \"haven't\", 'mustn', 'y', 'who', \"didn't\", 'it', 'about', 'as', 'itself', 'before', 'ours', 'was', 'didn', \"hasn't\", 'ourselves', 'further', 'its', 'into', 'any', 'were'}\n"
     ]
    }
   ],
   "source": [
    "stopWords = set(stopwords.words('english'))\n",
    "print(stopWords)"
   ]
  },
  {
   "cell_type": "code",
   "execution_count": 9,
   "metadata": {
    "colab": {
     "base_uri": "https://localhost:8080/",
     "height": 35
    },
    "executionInfo": {
     "elapsed": 619,
     "status": "ok",
     "timestamp": 1601311253331,
     "user": {
      "displayName": "Антон Геннадьевич Астахов",
      "photoUrl": "",
      "userId": "01331619065984010235"
     },
     "user_tz": -180
    },
    "id": "KFkfJm9ktAVa",
    "outputId": "06498c82-017f-47d1-d55d-f5b2d41dda9a"
   },
   "outputs": [
    {
     "name": "stdout",
     "output_type": "stream",
     "text": [
      "['work', 'play', 'makes', 'jack', 'dull', 'boy', ',', 'work', 'play']\n"
     ]
    }
   ],
   "source": [
    "print([word for word in tokens if word not in stopWords])"
   ]
  },
  {
   "cell_type": "markdown",
   "metadata": {
    "id": "aAUKc1oTiQjf"
   },
   "source": [
    "### Стемминг\n",
    "* процесс нахождения основы слова для заданного исходного слова"
   ]
  },
  {
   "cell_type": "code",
   "execution_count": 6,
   "metadata": {
    "executionInfo": {
     "elapsed": 671,
     "status": "ok",
     "timestamp": 1601311399970,
     "user": {
      "displayName": "Антон Геннадьевич Астахов",
      "photoUrl": "",
      "userId": "01331619065984010235"
     },
     "user_tz": -180
    },
    "id": "iRVu-TrON4sq"
   },
   "outputs": [],
   "source": [
    "from nltk.stem import PorterStemmer, SnowballStemmer\n",
    "words = [\"game\", \"gaming\", \"gamed\", \"games\", \"compacted\"]\n",
    "words_ru = ['корова', 'мальчики', 'мужчины', 'столом', 'убежала']"
   ]
  },
  {
   "cell_type": "code",
   "execution_count": 11,
   "metadata": {
    "colab": {
     "base_uri": "https://localhost:8080/",
     "height": 35
    },
    "executionInfo": {
     "elapsed": 521,
     "status": "ok",
     "timestamp": 1601311400620,
     "user": {
      "displayName": "Антон Геннадьевич Астахов",
      "photoUrl": "",
      "userId": "01331619065984010235"
     },
     "user_tz": -180
    },
    "id": "L9HTGfsBN9eX",
    "outputId": "05ab2965-31e9-4c72-fc7f-92ed6fcba119"
   },
   "outputs": [
    {
     "data": {
      "text/plain": [
       "['game', 'game', 'game', 'game', 'compact']"
      ]
     },
     "execution_count": 11,
     "metadata": {
      "tags": []
     },
     "output_type": "execute_result"
    }
   ],
   "source": [
    "ps = PorterStemmer()\n",
    "list(map(ps.stem, words))"
   ]
  },
  {
   "cell_type": "code",
   "execution_count": 12,
   "metadata": {
    "colab": {
     "base_uri": "https://localhost:8080/",
     "height": 35
    },
    "executionInfo": {
     "elapsed": 675,
     "status": "ok",
     "timestamp": 1601311401515,
     "user": {
      "displayName": "Антон Геннадьевич Астахов",
      "photoUrl": "",
      "userId": "01331619065984010235"
     },
     "user_tz": -180
    },
    "id": "U5qZkB-oODkW",
    "outputId": "958dce56-3d37-4e68-e5a6-9d8f53d3876a"
   },
   "outputs": [
    {
     "data": {
      "text/plain": [
       "['коров', 'мальчик', 'мужчин', 'стол', 'убежа']"
      ]
     },
     "execution_count": 12,
     "metadata": {
      "tags": []
     },
     "output_type": "execute_result"
    }
   ],
   "source": [
    "ss = SnowballStemmer(language='russian')\n",
    "list(map(ss.stem, words_ru))"
   ]
  },
  {
   "cell_type": "markdown",
   "metadata": {
    "id": "FbTXbi9FJXr1"
   },
   "source": [
    "### Лематизация\n",
    "* процесс приведения словоформы к лемме — её нормальной (словарной) форме"
   ]
  },
  {
   "cell_type": "code",
   "execution_count": 1,
   "metadata": {
    "executionInfo": {
     "elapsed": 783,
     "status": "ok",
     "timestamp": 1601311486388,
     "user": {
      "displayName": "Антон Геннадьевич Астахов",
      "photoUrl": "",
      "userId": "01331619065984010235"
     },
     "user_tz": -180
    },
    "id": "QF4nnEz00thb"
   },
   "outputs": [],
   "source": [
    "raw = \"\"\"DENNIS: Listen, strange women lying in ponds distributing swords\n",
    "is no basis for a system of government.  Supreme executive power derives from\n",
    "a mandate from the masses, not from some farcical aquatic ceremony.\"\"\""
   ]
  },
  {
   "cell_type": "code",
   "execution_count": 8,
   "metadata": {},
   "outputs": [
    {
     "name": "stdout",
     "output_type": "stream",
     "text": [
      "Collecting https://github.com/explosion/spacy-models/releases/download/\n",
      "Note: you may need to restart the kernel to use updated packages.\n"
     ]
    },
    {
     "name": "stderr",
     "output_type": "stream",
     "text": [
      "  ERROR: HTTP error 404 while getting https://github.com/explosion/spacy-models/releases/download/\n",
      "  ERROR: Could not install requirement https://github.com/explosion/spacy-models/releases/download/ because of error 404 Client Error: Not Found for url: https://github.com/explosion/spacy-models/releases/download/\n",
      "ERROR: Could not install requirement https://github.com/explosion/spacy-models/releases/download/ because of HTTP error 404 Client Error: Not Found for url: https://github.com/explosion/spacy-models/releases/download/ for URL https://github.com/explosion/spacy-models/releases/download/\n"
     ]
    }
   ],
   "source": [
    "pip install https://github.com/explosion/spacy-models/releases/download/en_core_web_sm-2.2.0/en_core_web_sm-2.2.0.tar.gz"
   ]
  },
  {
   "cell_type": "code",
   "execution_count": 11,
   "metadata": {},
   "outputs": [
    {
     "data": {
      "text/plain": [
       "DENNIS: Listen, strange women lying in ponds distributing swords\n",
       "is no basis for a system of government.  Supreme executive power derives from\n",
       "a mandate from the masses, not from some farcical aquatic ceremony."
      ]
     },
     "execution_count": 11,
     "metadata": {},
     "output_type": "execute_result"
    }
   ],
   "source": [
    "doc"
   ]
  },
  {
   "cell_type": "code",
   "execution_count": 10,
   "metadata": {
    "colab": {
     "base_uri": "https://localhost:8080/",
     "height": 70
    },
    "executionInfo": {
     "elapsed": 2058,
     "status": "ok",
     "timestamp": 1601311513732,
     "user": {
      "displayName": "Антон Геннадьевич Астахов",
      "photoUrl": "",
      "userId": "01331619065984010235"
     },
     "user_tz": -180
    },
    "id": "w7MDqIvWib4O",
    "outputId": "7b7d5c60-921a-4a25-ad0b-f2d10fc8b374",
    "scrolled": true
   },
   "outputs": [
    {
     "name": "stderr",
     "output_type": "stream",
     "text": [
      "D:\\Conda\\lib\\site-packages\\spacy\\util.py:275: UserWarning: [W031] Model 'en_core_web_sm' (2.2.0) requires spaCy v2.2 and is incompatible with the current spaCy version (2.3.5). This may lead to unexpected results or runtime errors. To resolve this, download a newer compatible model or retrain your custom model with the current spaCy version. For more details and available updates, run: python -m spacy validate\n",
      "  warnings.warn(warn_msg)\n"
     ]
    },
    {
     "name": "stdout",
     "output_type": "stream",
     "text": [
      "dennis : listen , strange woman lie in pond distribute sword \n",
      " be no basis for a system of government .   Supreme executive power derive from \n",
      " a mandate from the masse , not from some farcical aquatic ceremony .\n"
     ]
    }
   ],
   "source": [
    "nlp = spacy.load('en_core_web_sm')\n",
    "doc = nlp(raw)\n",
    "print(' '.join([token.lemma_ for token in doc]))"
   ]
  },
  {
   "cell_type": "markdown",
   "metadata": {
    "id": "Yim_NVYA6MeS"
   },
   "source": [
    "### Part-of-Speech"
   ]
  },
  {
   "cell_type": "code",
   "execution_count": 12,
   "metadata": {
    "colab": {
     "base_uri": "https://localhost:8080/",
     "height": 141
    },
    "executionInfo": {
     "elapsed": 638,
     "status": "ok",
     "timestamp": 1601311587338,
     "user": {
      "displayName": "Антон Геннадьевич Астахов",
      "photoUrl": "",
      "userId": "01331619065984010235"
     },
     "user_tz": -180
    },
    "id": "Doa85yw6JWea",
    "outputId": "8564f517-2194-4d7f-8b8b-6f54a7cbd113"
   },
   "outputs": [
    {
     "data": {
      "text/plain": [
       "[('dennis', 'NOUN'),\n",
       " (':', 'PUNCT'),\n",
       " ('listen', 'VERB'),\n",
       " (',', 'PUNCT'),\n",
       " ('strange', 'ADJ'),\n",
       " ('woman', 'NOUN'),\n",
       " ('lie', 'VERB')]"
      ]
     },
     "execution_count": 12,
     "metadata": {},
     "output_type": "execute_result"
    }
   ],
   "source": [
    "[(token.lemma_, token.pos_) for token in doc[:7]]"
   ]
  },
  {
   "cell_type": "code",
   "execution_count": 13,
   "metadata": {
    "colab": {
     "base_uri": "https://localhost:8080/",
     "height": 88
    },
    "executionInfo": {
     "elapsed": 659,
     "status": "ok",
     "timestamp": 1601311630148,
     "user": {
      "displayName": "Антон Геннадьевич Астахов",
      "photoUrl": "",
      "userId": "01331619065984010235"
     },
     "user_tz": -180
    },
    "id": "2gkpgX6l6MeV",
    "outputId": "86db5e9d-54cc-4b92-cfbf-77d7b7f5e626",
    "scrolled": false
   },
   "outputs": [
    {
     "name": "stderr",
     "output_type": "stream",
     "text": [
      "[nltk_data] Downloading package averaged_perceptron_tagger to\n",
      "[nltk_data]     C:\\Users\\evsta\\AppData\\Roaming\\nltk_data...\n",
      "[nltk_data]   Unzipping taggers\\averaged_perceptron_tagger.zip.\n"
     ]
    },
    {
     "data": {
      "text/plain": [
       "True"
      ]
     },
     "execution_count": 13,
     "metadata": {},
     "output_type": "execute_result"
    }
   ],
   "source": [
    "nltk.download('averaged_perceptron_tagger')"
   ]
  },
  {
   "cell_type": "code",
   "execution_count": 19,
   "metadata": {
    "colab": {
     "base_uri": "https://localhost:8080/",
     "height": 55
    },
    "executionInfo": {
     "elapsed": 676,
     "status": "ok",
     "timestamp": 1601311645384,
     "user": {
      "displayName": "Антон Геннадьевич Астахов",
      "photoUrl": "",
      "userId": "01331619065984010235"
     },
     "user_tz": -180
    },
    "id": "dPt3e9G26Mec",
    "outputId": "28d1087c-760b-4ed5-8481-be361b5c087a"
   },
   "outputs": [
    {
     "name": "stdout",
     "output_type": "stream",
     "text": [
      "[('All', 'DT'), ('work', 'NN'), ('and', 'CC'), ('no', 'DT'), ('play', 'NN'), ('makes', 'VBZ'), ('jack', 'RP'), ('a', 'DT'), ('dull', 'JJ'), ('boy,', 'NN'), ('all', 'DT'), ('work', 'NN'), ('and', 'CC'), ('no', 'DT'), ('play', 'NN')]\n"
     ]
    }
   ],
   "source": [
    "sentences = nltk.sent_tokenize(data)   \n",
    "for sent in sentences:\n",
    "    print(nltk.pos_tag(sent.split()))"
   ]
  },
  {
   "cell_type": "code",
   "execution_count": 28,
   "metadata": {
    "colab": {
     "base_uri": "https://localhost:8080/",
     "height": 70
    },
    "executionInfo": {
     "elapsed": 644,
     "status": "ok",
     "timestamp": 1601311698649,
     "user": {
      "displayName": "Антон Геннадьевич Астахов",
      "photoUrl": "",
      "userId": "01331619065984010235"
     },
     "user_tz": -180
    },
    "id": "2JRVwaH32KNt",
    "outputId": "1c9cd543-e304-4688-dbe4-fac0117d34ee"
   },
   "outputs": [
    {
     "name": "stderr",
     "output_type": "stream",
     "text": [
      "[nltk_data] Downloading package universal_tagset to\n",
      "[nltk_data]     C:\\Users\\evsta\\AppData\\Roaming\\nltk_data...\n",
      "[nltk_data]   Unzipping taggers\\universal_tagset.zip.\n"
     ]
    },
    {
     "data": {
      "text/plain": [
       "True"
      ]
     },
     "execution_count": 28,
     "metadata": {},
     "output_type": "execute_result"
    }
   ],
   "source": [
    "nltk.download('universal_tagset')"
   ]
  },
  {
   "cell_type": "code",
   "execution_count": 29,
   "metadata": {
    "colab": {
     "base_uri": "https://localhost:8080/",
     "height": 55
    },
    "executionInfo": {
     "elapsed": 631,
     "status": "ok",
     "timestamp": 1601311747812,
     "user": {
      "displayName": "Антон Геннадьевич Астахов",
      "photoUrl": "",
      "userId": "01331619065984010235"
     },
     "user_tz": -180
    },
    "id": "fZjWT0q60uLU",
    "outputId": "ccb0d4ea-9cea-4b4f-afbd-9322406e2244"
   },
   "outputs": [
    {
     "name": "stdout",
     "output_type": "stream",
     "text": [
      "[('All', 'DET'), ('work', 'NOUN'), ('and', 'CONJ'), ('no', 'DET'), ('play', 'NOUN'), ('makes', 'VERB'), ('jack', 'PRT'), ('a', 'DET'), ('dull', 'ADJ'), ('boy,', 'NOUN'), ('all', 'DET'), ('work', 'NOUN'), ('and', 'CONJ'), ('no', 'DET'), ('play', 'NOUN')]\n"
     ]
    }
   ],
   "source": [
    "word_tag = nltk.pos_tag(data.split())\n",
    "new_word_tag = [(word, nltk.map_tag('en-ptb', 'universal', tag)) for word, tag in word_tag]\n",
    "print(new_word_tag)"
   ]
  },
  {
   "cell_type": "markdown",
   "metadata": {
    "id": "3_Slt2R76Mgk"
   },
   "source": [
    "### Named entities recognition   (разложение на сущности)"
   ]
  },
  {
   "cell_type": "code",
   "execution_count": 30,
   "metadata": {
    "colab": {
     "base_uri": "https://localhost:8080/",
     "height": 70
    },
    "executionInfo": {
     "elapsed": 615,
     "status": "ok",
     "timestamp": 1601312015465,
     "user": {
      "displayName": "Антон Геннадьевич Астахов",
      "photoUrl": "",
      "userId": "01331619065984010235"
     },
     "user_tz": -180
    },
    "id": "zvB43ZHT6MhR",
    "outputId": "dd1f7b70-a095-4c71-a123-26033c79970b"
   },
   "outputs": [
    {
     "name": "stdout",
     "output_type": "stream",
     "text": [
      "Apple 0 5 ORG\n",
      "U.K. 27 31 GPE\n",
      "$1 billion 44 54 MONEY\n"
     ]
    }
   ],
   "source": [
    "doc = nlp('Apple is looking at buying U.K. startup for $1 billion')\n",
    "\n",
    "for ent in doc.ents:\n",
    "    print(ent.text, ent.start_char, ent.end_char, ent.label_)"
   ]
  },
  {
   "cell_type": "markdown",
   "metadata": {
    "id": "mIwHkGXWPZjy"
   },
   "source": [
    "### Поиск шаблонов"
   ]
  },
  {
   "cell_type": "markdown",
   "metadata": {
    "id": "VrmhCpNdQo6r"
   },
   "source": [
    "#### Регулярные выражения\n",
    "\n",
    "Исчерпывающий пост https://habr.com/ru/post/349860/"
   ]
  },
  {
   "cell_type": "code",
   "execution_count": 31,
   "metadata": {
    "colab": {
     "base_uri": "https://localhost:8080/",
     "height": 35
    },
    "executionInfo": {
     "elapsed": 694,
     "status": "ok",
     "timestamp": 1601312269342,
     "user": {
      "displayName": "Антон Геннадьевич Астахов",
      "photoUrl": "",
      "userId": "01331619065984010235"
     },
     "user_tz": -180
    },
    "id": "IccRpcG06Mfd",
    "outputId": "64b622cf-e5f4-4416-e2fd-446c632a21e9"
   },
   "outputs": [
    {
     "data": {
      "text/plain": [
       "['super', 'a', 'i', 'a', 'i', 'i', 'i', 'e', 'i', 'a', 'i', 'o', 'i', 'o', 'u']"
      ]
     },
     "execution_count": 31,
     "metadata": {},
     "output_type": "execute_result"
    }
   ],
   "source": [
    "word = 'supercalifragilisticexpialidocious'\n",
    "re.findall('[aeiou]|super', word)"
   ]
  },
  {
   "cell_type": "code",
   "execution_count": 33,
   "metadata": {
    "colab": {
     "base_uri": "https://localhost:8080/",
     "height": 35
    },
    "executionInfo": {
     "elapsed": 631,
     "status": "ok",
     "timestamp": 1601312364325,
     "user": {
      "displayName": "Антон Геннадьевич Астахов",
      "photoUrl": "",
      "userId": "01331619065984010235"
     },
     "user_tz": -180
    },
    "id": "Je8YPHLZPJW7",
    "outputId": "8dea5e73-bf4a-4167-bbf3-a29cdcde8d14"
   },
   "outputs": [
    {
     "data": {
      "text/plain": [
       "['49', '43', '2']"
      ]
     },
     "execution_count": 33,
     "metadata": {},
     "output_type": "execute_result"
    }
   ],
   "source": [
    "re.findall('\\d{1,2}', 'There is some numbers: 49 and 432')"
   ]
  },
  {
   "cell_type": "code",
   "execution_count": 34,
   "metadata": {
    "colab": {
     "base_uri": "https://localhost:8080/",
     "height": 35
    },
    "executionInfo": {
     "elapsed": 661,
     "status": "ok",
     "timestamp": 1601312522604,
     "user": {
      "displayName": "Антон Геннадьевич Астахов",
      "photoUrl": "",
      "userId": "01331619065984010235"
     },
     "user_tz": -180
    },
    "id": "fzde8MX1PJXA",
    "outputId": "fe5a2ffa-7672-473e-df69-3b5a64cca97d"
   },
   "outputs": [
    {
     "data": {
      "text/plain": [
       "'How to split text'"
      ]
     },
     "execution_count": 34,
     "metadata": {},
     "output_type": "execute_result"
    }
   ],
   "source": [
    "re.sub('[,\\.?!]','','How, to? split. text!')"
   ]
  },
  {
   "cell_type": "code",
   "execution_count": 35,
   "metadata": {
    "colab": {
     "base_uri": "https://localhost:8080/",
     "height": 35
    },
    "executionInfo": {
     "elapsed": 731,
     "status": "ok",
     "timestamp": 1601312711466,
     "user": {
      "displayName": "Антон Геннадьевич Астахов",
      "photoUrl": "",
      "userId": "01331619065984010235"
     },
     "user_tz": -180
    },
    "id": "GyswV9nuPJXF",
    "outputId": "bbe284e7-eed1-4acc-acb7-e57424090a9d"
   },
   "outputs": [
    {
     "data": {
      "text/plain": [
       "['I', 'can', 'play', 'football']"
      ]
     },
     "execution_count": 35,
     "metadata": {},
     "output_type": "execute_result"
    }
   ],
   "source": [
    "re.sub('[^A-z]',' ','I 123 can 45 play 67 football').split()"
   ]
  },
  {
   "cell_type": "markdown",
   "metadata": {
    "id": "HIwDfmrYOMfi"
   },
   "source": [
    "### Задача классификации"
   ]
  },
  {
   "cell_type": "markdown",
   "metadata": {
    "id": "L6DaLniC6MhY"
   },
   "source": [
    "#### 20 newsgroups\n",
    "Датасет с 18000 новостей, сгруппированных по 20 темам."
   ]
  },
  {
   "cell_type": "code",
   "execution_count": 36,
   "metadata": {
    "colab": {
     "base_uri": "https://localhost:8080/",
     "height": 53
    },
    "executionInfo": {
     "elapsed": 10977,
     "status": "ok",
     "timestamp": 1601312803411,
     "user": {
      "displayName": "Антон Геннадьевич Астахов",
      "photoUrl": "",
      "userId": "01331619065984010235"
     },
     "user_tz": -180
    },
    "id": "9uS7IJNW6Mhb",
    "outputId": "e6b94928-237e-48cb-9d00-a13ca14f4c43"
   },
   "outputs": [],
   "source": [
    "from sklearn.datasets import fetch_20newsgroups\n",
    "newsgroups_train = fetch_20newsgroups(subset='train')"
   ]
  },
  {
   "cell_type": "code",
   "execution_count": 38,
   "metadata": {
    "colab": {
     "base_uri": "https://localhost:8080/",
     "height": 372
    },
    "executionInfo": {
     "elapsed": 5885,
     "status": "ok",
     "timestamp": 1601312803428,
     "user": {
      "displayName": "Антон Геннадьевич Астахов",
      "photoUrl": "",
      "userId": "01331619065984010235"
     },
     "user_tz": -180
    },
    "id": "MMbagpJE6Mhh",
    "outputId": "569a369c-b7f7-4ddc-9ff8-b10363cf68e5",
    "scrolled": false
   },
   "outputs": [
    {
     "data": {
      "text/plain": [
       "['alt.atheism',\n",
       " 'comp.graphics',\n",
       " 'comp.os.ms-windows.misc',\n",
       " 'comp.sys.ibm.pc.hardware',\n",
       " 'comp.sys.mac.hardware',\n",
       " 'comp.windows.x',\n",
       " 'misc.forsale',\n",
       " 'rec.autos',\n",
       " 'rec.motorcycles',\n",
       " 'rec.sport.baseball',\n",
       " 'rec.sport.hockey',\n",
       " 'sci.crypt',\n",
       " 'sci.electronics',\n",
       " 'sci.med',\n",
       " 'sci.space',\n",
       " 'soc.religion.christian',\n",
       " 'talk.politics.guns',\n",
       " 'talk.politics.mideast',\n",
       " 'talk.politics.misc',\n",
       " 'talk.religion.misc']"
      ]
     },
     "execution_count": 38,
     "metadata": {},
     "output_type": "execute_result"
    }
   ],
   "source": [
    "list(newsgroups_train.target_names)"
   ]
  },
  {
   "cell_type": "code",
   "execution_count": 39,
   "metadata": {
    "colab": {
     "base_uri": "https://localhost:8080/",
     "height": 35
    },
    "executionInfo": {
     "elapsed": 629,
     "status": "ok",
     "timestamp": 1601312834622,
     "user": {
      "displayName": "Антон Геннадьевич Астахов",
      "photoUrl": "",
      "userId": "01331619065984010235"
     },
     "user_tz": -180
    },
    "id": "7QReW1K46Mhn",
    "outputId": "0a22fa38-0600-48fd-fe5e-ce8d8f129d59"
   },
   "outputs": [
    {
     "data": {
      "text/plain": [
       "((11314,), (11314,))"
      ]
     },
     "execution_count": 39,
     "metadata": {},
     "output_type": "execute_result"
    }
   ],
   "source": [
    "newsgroups_train.filenames.shape, newsgroups_train.target.shape"
   ]
  },
  {
   "cell_type": "markdown",
   "metadata": {
    "id": "WZtRIQmNQ4H0"
   },
   "source": [
    "#### Рассмотрим подвыборку"
   ]
  },
  {
   "cell_type": "code",
   "execution_count": 41,
   "metadata": {
    "executionInfo": {
     "elapsed": 873,
     "status": "ok",
     "timestamp": 1601312843508,
     "user": {
      "displayName": "Антон Геннадьевич Астахов",
      "photoUrl": "",
      "userId": "01331619065984010235"
     },
     "user_tz": -180
    },
    "id": "OhwuCp5B6Mhz"
   },
   "outputs": [],
   "source": [
    "cats = ['alt.atheism', 'sci.space']\n",
    "newsgroups_train = fetch_20newsgroups(subset='train', categories=cats)"
   ]
  },
  {
   "cell_type": "code",
   "execution_count": 42,
   "metadata": {
    "colab": {
     "base_uri": "https://localhost:8080/",
     "height": 35
    },
    "executionInfo": {
     "elapsed": 833,
     "status": "ok",
     "timestamp": 1601312848461,
     "user": {
      "displayName": "Антон Геннадьевич Астахов",
      "photoUrl": "",
      "userId": "01331619065984010235"
     },
     "user_tz": -180
    },
    "id": "2nF9tIdA6Mh5",
    "outputId": "492fcc62-973a-4f6e-a4e4-548ac392fa21"
   },
   "outputs": [
    {
     "data": {
      "text/plain": [
       "((1073,), (1073,))"
      ]
     },
     "execution_count": 42,
     "metadata": {},
     "output_type": "execute_result"
    }
   ],
   "source": [
    "newsgroups_train.filenames.shape, newsgroups_train.target.shape"
   ]
  },
  {
   "cell_type": "code",
   "execution_count": 43,
   "metadata": {
    "colab": {
     "base_uri": "https://localhost:8080/",
     "height": 479
    },
    "executionInfo": {
     "elapsed": 642,
     "status": "ok",
     "timestamp": 1601312853217,
     "user": {
      "displayName": "Антон Геннадьевич Астахов",
      "photoUrl": "",
      "userId": "01331619065984010235"
     },
     "user_tz": -180
    },
    "id": "MOREsv336MiA",
    "outputId": "e4df4b9c-72ec-4918-f219-b942742cf6b4"
   },
   "outputs": [
    {
     "name": "stdout",
     "output_type": "stream",
     "text": [
      "From: bil@okcforum.osrhe.edu (Bill Conner)\n",
      "Subject: Re: Not the Omni!\n",
      "Nntp-Posting-Host: okcforum.osrhe.edu\n",
      "Organization: Okcforum Unix Users Group\n",
      "X-Newsreader: TIN [version 1.1 PL6]\n",
      "Lines: 18\n",
      "\n",
      "Charley Wingate (mangoe@cs.umd.edu) wrote:\n",
      ": \n",
      ": >> Please enlighten me.  How is omnipotence contradictory?\n",
      ": \n",
      ": >By definition, all that can occur in the universe is governed by the rules\n",
      ": >of nature. Thus god cannot break them. Anything that god does must be allowed\n",
      ": >in the rules somewhere. Therefore, omnipotence CANNOT exist! It contradicts\n",
      ": >the rules of nature.\n",
      ": \n",
      ": Obviously, an omnipotent god can change the rules.\n",
      "\n",
      "When you say, \"By definition\", what exactly is being defined;\n",
      "certainly not omnipotence. You seem to be saying that the \"rules of\n",
      "nature\" are pre-existant somehow, that they not only define nature but\n",
      "actually cause it. If that's what you mean I'd like to hear your\n",
      "further thoughts on the question.\n",
      "\n",
      "Bill\n",
      "\n"
     ]
    }
   ],
   "source": [
    "print(newsgroups_train.data[0])"
   ]
  },
  {
   "cell_type": "code",
   "execution_count": 41,
   "metadata": {
    "colab": {
     "base_uri": "https://localhost:8080/",
     "height": 35
    },
    "executionInfo": {
     "elapsed": 650,
     "status": "ok",
     "timestamp": 1601312881508,
     "user": {
      "displayName": "Антон Геннадьевич Астахов",
      "photoUrl": "",
      "userId": "01331619065984010235"
     },
     "user_tz": -180
    },
    "id": "SBnDG-TN6MiF",
    "outputId": "d8104d37-4cdd-4cc8-f8e8-9a7d7e903145"
   },
   "outputs": [
    {
     "data": {
      "text/plain": [
       "array([0, 1, 1, 1, 0, 1, 1, 0, 0, 0])"
      ]
     },
     "execution_count": 41,
     "metadata": {
      "tags": []
     },
     "output_type": "execute_result"
    }
   ],
   "source": [
    "newsgroups_train.target[:10]"
   ]
  },
  {
   "cell_type": "markdown",
   "metadata": {
    "id": "2XlZYpodRYDI"
   },
   "source": [
    "#### TF-IDF(напоминание)"
   ]
  },
  {
   "cell_type": "markdown",
   "metadata": {
    "id": "ohUk2n3jRbNp"
   },
   "source": [
    "$n_{\\mathbb{d}\\mathbb{w}}$ - число вхождений слова $\\mathbb{w}$ в документ $\\mathbb{d}$;<br>\n",
    "$N_{\\mathbb{w}}$ - число документов, содержащих $\\mathbb{w}$;<br>\n",
    "$N$ - число документов; <br><br>\n",
    "\n",
    "$p(\\mathbb{w}, \\mathbb{d}) = N_{\\mathbb{w}} / N$ - вероятность наличия слова $\\mathbb{w}$ в любом документе $\\mathbb{d}$\n",
    "<br>\n",
    "$P(\\mathbb{w}, \\mathbb{d}, n_{\\mathbb{d}\\mathbb{w}}) = (N_{\\mathbb{w}} / N)^{n_{\\mathbb{d}\\mathbb{w}}}$ - вероятность встретить $n_{\\mathbb{d}\\mathbb{w}}$ раз слово $\\mathbb{w}$ в документе $\\mathbb{d}$<br><br>\n",
    "\n",
    "$-\\log{P(\\mathbb{w}, \\mathbb{d}, n_{\\mathbb{d}\\mathbb{w}})} = n_{\\mathbb{d}\\mathbb{w}} \\cdot \\log{(N / N_{\\mathbb{w}})} = TF(\\mathbb{w}, \\mathbb{d}) \\cdot IDF(\\mathbb{w})$<br><br>\n",
    "\n",
    "$TF(\\mathbb{w}, \\mathbb{d}) = n_{\\mathbb{d}\\mathbb{w}}$ - term frequency;<br>\n",
    "$IDF(\\mathbb{w}) = \\log{(N /N_{\\mathbb{w}})}$ - inverted document frequency;"
   ]
  },
  {
   "cell_type": "markdown",
   "metadata": {
    "id": "kQvcMiFH6MiM"
   },
   "source": [
    "#### Давайте векторизуем эти тексты с помощью TF-IDF"
   ]
  },
  {
   "cell_type": "code",
   "execution_count": 45,
   "metadata": {
    "executionInfo": {
     "elapsed": 702,
     "status": "ok",
     "timestamp": 1601313511701,
     "user": {
      "displayName": "Антон Геннадьевич Астахов",
      "photoUrl": "",
      "userId": "01331619065984010235"
     },
     "user_tz": -180
    },
    "id": "98LLAoZO6MiU"
   },
   "outputs": [],
   "source": [
    "from sklearn.feature_extraction.text import TfidfVectorizer\n",
    "categories = ['alt.atheism', 'talk.religion.misc',\n",
    "              'comp.graphics', 'sci.space']\n",
    "newsgroups_train = fetch_20newsgroups(subset='train',\n",
    "                                      categories=categories)"
   ]
  },
  {
   "cell_type": "markdown",
   "metadata": {
    "id": "baXLU0lj6MiY"
   },
   "source": [
    "#### Некоторые параметры TfidfVectorizer: \n",
    "##### input : string {‘filename’, ‘file’, ‘content’}\n",
    "##### lowercase : boolean, default True\n",
    "##### preprocessor : callable or None (default)\n",
    "##### tokenizer : callable or None (default)\n",
    "##### stop_words : string {‘english’}, list, or None (default)\n",
    "##### ngram_range : tuple (min_n, max_n)\n",
    "##### max_df : float in range [0.0, 1.0] or int, default=1.0\n",
    "##### min_df : float in range [0.0, 1.0] or int, default=1\n",
    "##### max_features : int or None, default=None"
   ]
  },
  {
   "cell_type": "markdown",
   "metadata": {
    "id": "O-m81BJxZFwJ"
   },
   "source": [
    "#### Перебор параметров"
   ]
  },
  {
   "cell_type": "code",
   "execution_count": 51,
   "metadata": {
    "colab": {
     "base_uri": "https://localhost:8080/",
     "height": 35
    },
    "executionInfo": {
     "elapsed": 1084,
     "status": "ok",
     "timestamp": 1601313681866,
     "user": {
      "displayName": "Антон Геннадьевич Астахов",
      "photoUrl": "",
      "userId": "01331619065984010235"
     },
     "user_tz": -180
    },
    "id": "_f7padHL6MiZ",
    "outputId": "fd32a71f-957c-4914-8ed8-ef5ad3ce845c"
   },
   "outputs": [
    {
     "data": {
      "text/plain": [
       "(2034, 34118)"
      ]
     },
     "execution_count": 51,
     "metadata": {},
     "output_type": "execute_result"
    }
   ],
   "source": [
    "# lowercase\n",
    "vectorizer = TfidfVectorizer()\n",
    "vectors = vectorizer.fit_transform(newsgroups_train.data)\n",
    "vectors.shape"
   ]
  },
  {
   "cell_type": "code",
   "execution_count": 50,
   "metadata": {
    "colab": {
     "base_uri": "https://localhost:8080/",
     "height": 35
    },
    "executionInfo": {
     "elapsed": 935,
     "status": "ok",
     "timestamp": 1601313710780,
     "user": {
      "displayName": "Антон Геннадьевич Астахов",
      "photoUrl": "",
      "userId": "01331619065984010235"
     },
     "user_tz": -180
    },
    "id": "Nf2s4HCY6Mie",
    "outputId": "6368df1f-aff8-454e-a53d-7afebc6d295a"
   },
   "outputs": [
    {
     "data": {
      "text/plain": [
       "(2034, 42307)"
      ]
     },
     "execution_count": 50,
     "metadata": {},
     "output_type": "execute_result"
    }
   ],
   "source": [
    "vectorizer = TfidfVectorizer(lowercase=False)\n",
    "vectors = vectorizer.fit_transform(newsgroups_train.data)\n",
    "vectors.shape"
   ]
  },
  {
   "cell_type": "code",
   "execution_count": 48,
   "metadata": {
    "colab": {
     "base_uri": "https://localhost:8080/",
     "height": 195
    },
    "executionInfo": {
     "elapsed": 846,
     "status": "ok",
     "timestamp": 1601313726759,
     "user": {
      "displayName": "Антон Геннадьевич Астахов",
      "photoUrl": "",
      "userId": "01331619065984010235"
     },
     "user_tz": -180
    },
    "id": "2hwlTWapZR8M",
    "outputId": "3ca34a52-ac41-4801-e41d-69ca874bc77e"
   },
   "outputs": [
    {
     "data": {
      "text/plain": [
       "['00',\n",
       " '000',\n",
       " '0000',\n",
       " '00000',\n",
       " '000000',\n",
       " '000005102000',\n",
       " '000021',\n",
       " '000062David42',\n",
       " '0000VEC',\n",
       " '0001']"
      ]
     },
     "execution_count": 48,
     "metadata": {},
     "output_type": "execute_result"
    }
   ],
   "source": [
    "vectorizer.get_feature_names()[:10]"
   ]
  },
  {
   "cell_type": "code",
   "execution_count": 55,
   "metadata": {
    "colab": {
     "base_uri": "https://localhost:8080/",
     "height": 35
    },
    "executionInfo": {
     "elapsed": 1245,
     "status": "ok",
     "timestamp": 1601313782874,
     "user": {
      "displayName": "Антон Геннадьевич Астахов",
      "photoUrl": "",
      "userId": "01331619065984010235"
     },
     "user_tz": -180
    },
    "id": "AYfpk0ds6Mij",
    "outputId": "5b4c1654-29bc-4ca5-a01e-7e7b05547763"
   },
   "outputs": [
    {
     "data": {
      "text/plain": [
       "(2034, 9)"
      ]
     },
     "execution_count": 55,
     "metadata": {},
     "output_type": "execute_result"
    }
   ],
   "source": [
    "# min_df, max_df\n",
    "vectorizer = TfidfVectorizer(min_df=0.8)\n",
    "vectors = vectorizer.fit_transform(newsgroups_train.data)\n",
    "vectors.shape"
   ]
  },
  {
   "cell_type": "code",
   "execution_count": 49,
   "metadata": {
    "colab": {
     "base_uri": "https://localhost:8080/",
     "height": 35
    },
    "executionInfo": {
     "elapsed": 685,
     "status": "ok",
     "timestamp": 1601313785135,
     "user": {
      "displayName": "Антон Геннадьевич Астахов",
      "photoUrl": "",
      "userId": "01331619065984010235"
     },
     "user_tz": -180
    },
    "id": "Ookt99atZ8sS",
    "outputId": "579844ba-cf1f-4fe8-e7a8-af10ae8e50f7"
   },
   "outputs": [
    {
     "data": {
      "text/plain": [
       "['and', 'from', 'in', 'lines', 'of', 'organization', 'subject', 'the', 'to']"
      ]
     },
     "execution_count": 49,
     "metadata": {
      "tags": []
     },
     "output_type": "execute_result"
    }
   ],
   "source": [
    "vectorizer.get_feature_names()"
   ]
  },
  {
   "cell_type": "code",
   "execution_count": 51,
   "metadata": {
    "colab": {
     "base_uri": "https://localhost:8080/",
     "height": 35
    },
    "executionInfo": {
     "elapsed": 949,
     "status": "ok",
     "timestamp": 1601313827639,
     "user": {
      "displayName": "Антон Геннадьевич Астахов",
      "photoUrl": "",
      "userId": "01331619065984010235"
     },
     "user_tz": -180
    },
    "id": "2e_h6c0X6Mim",
    "outputId": "b8fa301d-bb0a-47cb-e960-c43c6e98ebef"
   },
   "outputs": [
    {
     "data": {
      "text/plain": [
       "(2034, 2391)"
      ]
     },
     "execution_count": 51,
     "metadata": {
      "tags": []
     },
     "output_type": "execute_result"
    }
   ],
   "source": [
    "vectorizer = TfidfVectorizer(min_df=0.01, max_df=0.8)\n",
    "vectors = vectorizer.fit_transform(newsgroups_train.data)\n",
    "vectors.shape"
   ]
  },
  {
   "cell_type": "code",
   "execution_count": 56,
   "metadata": {
    "id": "XUhOyx4NihL0"
   },
   "outputs": [
    {
     "data": {
      "text/plain": [
       "(2034, 1236)"
      ]
     },
     "execution_count": 56,
     "metadata": {},
     "output_type": "execute_result"
    }
   ],
   "source": [
    "# ngram_range\n",
    "vectorizer = TfidfVectorizer(ngram_range=(1, 3), min_df=0.03, max_df=0.9)\n",
    "vectors = vectorizer.fit_transform(newsgroups_train.data)\n",
    "vectors.shape"
   ]
  },
  {
   "cell_type": "code",
   "execution_count": 58,
   "metadata": {},
   "outputs": [],
   "source": [
    "from nltk.corpus import stopwords"
   ]
  },
  {
   "cell_type": "code",
   "execution_count": 60,
   "metadata": {},
   "outputs": [
    {
     "name": "stderr",
     "output_type": "stream",
     "text": [
      "[nltk_data] Downloading package stopwords to\n",
      "[nltk_data]     C:\\Users\\evsta\\AppData\\Roaming\\nltk_data...\n",
      "[nltk_data]   Unzipping corpora\\stopwords.zip.\n"
     ]
    },
    {
     "data": {
      "text/plain": [
       "True"
      ]
     },
     "execution_count": 60,
     "metadata": {},
     "output_type": "execute_result"
    }
   ],
   "source": [
    "nltk.download('stopwords')"
   ]
  },
  {
   "cell_type": "code",
   "execution_count": 61,
   "metadata": {
    "colab": {
     "base_uri": "https://localhost:8080/",
     "height": 53
    },
    "executionInfo": {
     "elapsed": 1346,
     "status": "ok",
     "timestamp": 1601313875376,
     "user": {
      "displayName": "Антон Геннадьевич Астахов",
      "photoUrl": "",
      "userId": "01331619065984010235"
     },
     "user_tz": -180
    },
    "id": "7074cdSF6MjC",
    "outputId": "19873cc6-053e-4117-f87f-a28f21d157e2"
   },
   "outputs": [
    {
     "name": "stderr",
     "output_type": "stream",
     "text": [
      "[nltk_data] Downloading package wordnet to\n",
      "[nltk_data]     C:\\Users\\evsta\\AppData\\Roaming\\nltk_data...\n",
      "[nltk_data]   Unzipping corpora\\wordnet.zip.\n"
     ]
    }
   ],
   "source": [
    "# стоп-слова, preproc\n",
    "from nltk.corpus import stopwords\n",
    "stopWords = set(stopwords.words('english'))\n",
    "nltk.download('wordnet')\n",
    "wnl = nltk.WordNetLemmatizer()"
   ]
  },
  {
   "cell_type": "code",
   "execution_count": 62,
   "metadata": {
    "executionInfo": {
     "elapsed": 632,
     "status": "ok",
     "timestamp": 1601313878070,
     "user": {
      "displayName": "Антон Геннадьевич Астахов",
      "photoUrl": "",
      "userId": "01331619065984010235"
     },
     "user_tz": -180
    },
    "id": "3P1vFl1h6MjG"
   },
   "outputs": [],
   "source": [
    "def preproc1(text):\n",
    "    return ' '.join([wnl.lemmatize(word) for word in word_tokenize(text.lower()) if word not in stopWords])"
   ]
  },
  {
   "cell_type": "code",
   "execution_count": 63,
   "metadata": {
    "colab": {
     "base_uri": "https://localhost:8080/",
     "height": 35
    },
    "executionInfo": {
     "elapsed": 2352,
     "status": "ok",
     "timestamp": 1601313880898,
     "user": {
      "displayName": "Антон Геннадьевич Астахов",
      "photoUrl": "",
      "userId": "01331619065984010235"
     },
     "user_tz": -180
    },
    "id": "K77qZLNP6MjP",
    "outputId": "e8bdf5bf-a296-4260-db35-5c095164cf9b"
   },
   "outputs": [
    {
     "data": {
      "text/plain": [
       "'oh , think landed miracle work , thirst hunger come conference bird'"
      ]
     },
     "execution_count": 63,
     "metadata": {},
     "output_type": "execute_result"
    }
   ],
   "source": [
    "st = \"Oh, I think I ve landed Where there are miracles at work,  For the thirst and for the hunger Come the conference of birds\"\n",
    "preproc1(st)"
   ]
  },
  {
   "cell_type": "code",
   "execution_count": 64,
   "metadata": {
    "colab": {
     "base_uri": "https://localhost:8080/",
     "height": 53
    },
    "executionInfo": {
     "elapsed": 8666,
     "status": "ok",
     "timestamp": 1601313902227,
     "user": {
      "displayName": "Антон Геннадьевич Астахов",
      "photoUrl": "",
      "userId": "01331619065984010235"
     },
     "user_tz": -180
    },
    "id": "LIW3hCSy6MjX",
    "outputId": "b40bd12b-15ea-4834-b267-a4e0bcd37319"
   },
   "outputs": [
    {
     "name": "stdout",
     "output_type": "stream",
     "text": [
      "Wall time: 8.23 s\n"
     ]
    }
   ],
   "source": [
    "%%time\n",
    "vectorizer = TfidfVectorizer(preprocessor=preproc1)\n",
    "vectors = vectorizer.fit_transform(newsgroups_train.data)"
   ]
  },
  {
   "cell_type": "code",
   "execution_count": 65,
   "metadata": {
    "colab": {
     "base_uri": "https://localhost:8080/",
     "height": 35
    },
    "executionInfo": {
     "elapsed": 714,
     "status": "ok",
     "timestamp": 1601313903816,
     "user": {
      "displayName": "Антон Геннадьевич Астахов",
      "photoUrl": "",
      "userId": "01331619065984010235"
     },
     "user_tz": -180
    },
    "id": "O60Luw2s6Mjb",
    "outputId": "f56db644-efdb-4cab-99de-54ad809b86ab"
   },
   "outputs": [
    {
     "data": {
      "text/plain": [
       "(2034, 31688)"
      ]
     },
     "execution_count": 65,
     "metadata": {},
     "output_type": "execute_result"
    }
   ],
   "source": [
    "vectors.shape"
   ]
  },
  {
   "cell_type": "code",
   "execution_count": 66,
   "metadata": {
    "executionInfo": {
     "elapsed": 1253,
     "status": "ok",
     "timestamp": 1601313931614,
     "user": {
      "displayName": "Антон Геннадьевич Астахов",
      "photoUrl": "",
      "userId": "01331619065984010235"
     },
     "user_tz": -180
    },
    "id": "57BlJzaJ6Mjl"
   },
   "outputs": [],
   "source": [
    "def preproc2(text):\n",
    "    return ' '.join([token.lemma_ for token in nlp(text.lower()) if token.lemma_ not in stopWords])"
   ]
  },
  {
   "cell_type": "code",
   "execution_count": 67,
   "metadata": {
    "colab": {
     "base_uri": "https://localhost:8080/",
     "height": 35
    },
    "executionInfo": {
     "elapsed": 628,
     "status": "ok",
     "timestamp": 1601313931621,
     "user": {
      "displayName": "Антон Геннадьевич Астахов",
      "photoUrl": "",
      "userId": "01331619065984010235"
     },
     "user_tz": -180
    },
    "id": "ugXFj7EI6Mjp",
    "outputId": "ba950265-9ed8-4b65-e159-f72ae9cdc851"
   },
   "outputs": [
    {
     "data": {
      "text/plain": [
       "'oh , think land miracle work ,   thirst hunger come conference bird'"
      ]
     },
     "execution_count": 67,
     "metadata": {},
     "output_type": "execute_result"
    }
   ],
   "source": [
    "preproc2(st)"
   ]
  },
  {
   "cell_type": "code",
   "execution_count": null,
   "metadata": {
    "id": "oSNACH8g6Mjt"
   },
   "outputs": [],
   "source": [
    "%%time\n",
    "vectorizer = TfidfVectorizer(preprocessor=preproc2)\n",
    "vectors = vectorizer.fit_transform(newsgroups_train.data)"
   ]
  },
  {
   "cell_type": "code",
   "execution_count": null,
   "metadata": {
    "id": "R11GbAP06Mjw"
   },
   "outputs": [],
   "source": [
    "vectors.shape"
   ]
  },
  {
   "cell_type": "markdown",
   "metadata": {
    "id": "0lXAPHZA6Mj0"
   },
   "source": [
    "#### Итоговая модель"
   ]
  },
  {
   "cell_type": "code",
   "execution_count": 59,
   "metadata": {
    "colab": {
     "base_uri": "https://localhost:8080/",
     "height": 35
    },
    "executionInfo": {
     "elapsed": 12908,
     "status": "ok",
     "timestamp": 1601314046773,
     "user": {
      "displayName": "Антон Геннадьевич Астахов",
      "photoUrl": "",
      "userId": "01331619065984010235"
     },
     "user_tz": -180
    },
    "id": "uZYcRkQ86Mj1",
    "outputId": "e9273b79-35fa-459a-f901-04132ad410fa"
   },
   "outputs": [
    {
     "data": {
      "text/plain": [
       "(2034, 1000)"
      ]
     },
     "execution_count": 59,
     "metadata": {
      "tags": []
     },
     "output_type": "execute_result"
    }
   ],
   "source": [
    "vectorizer = TfidfVectorizer(preprocessor=preproc1, ngram_range=(1, 3), max_df=0.5, max_features=1000)\n",
    "vectors = vectorizer.fit_transform(newsgroups_train.data)\n",
    "vectors.shape"
   ]
  },
  {
   "cell_type": "code",
   "execution_count": 62,
   "metadata": {
    "colab": {
     "base_uri": "https://localhost:8080/",
     "height": 195
    },
    "executionInfo": {
     "elapsed": 1123,
     "status": "ok",
     "timestamp": 1601314085115,
     "user": {
      "displayName": "Антон Геннадьевич Астахов",
      "photoUrl": "",
      "userId": "01331619065984010235"
     },
     "user_tz": -180
    },
    "id": "zvQz1VBvnVq1",
    "outputId": "266f6fdf-2887-42a6-a5c6-0e46e0804f6f"
   },
   "outputs": [
    {
     "data": {
      "text/plain": [
       "['00',\n",
       " 'archive',\n",
       " 'color',\n",
       " 'edu keith allan',\n",
       " 'hand',\n",
       " 'later',\n",
       " 'near',\n",
       " 'principle',\n",
       " 'shall',\n",
       " 'tony']"
      ]
     },
     "execution_count": 62,
     "metadata": {
      "tags": []
     },
     "output_type": "execute_result"
    }
   ],
   "source": [
    "vectorizer.get_feature_names()[::100]"
   ]
  },
  {
   "cell_type": "markdown",
   "metadata": {
    "id": "TQHTlj3q6Mj6"
   },
   "source": [
    "#### Можем посмотреть на косинусную меру между векторами"
   ]
  },
  {
   "cell_type": "code",
   "execution_count": 100,
   "metadata": {
    "executionInfo": {
     "elapsed": 818,
     "status": "ok",
     "timestamp": 1601315476638,
     "user": {
      "displayName": "Антон Геннадьевич Астахов",
      "photoUrl": "",
      "userId": "01331619065984010235"
     },
     "user_tz": -180
    },
    "id": "VA8Fn5I46Mi0"
   },
   "outputs": [],
   "source": [
    "vector = vectors.todense()[1]"
   ]
  },
  {
   "cell_type": "code",
   "execution_count": 66,
   "metadata": {
    "colab": {
     "base_uri": "https://localhost:8080/",
     "height": 35
    },
    "executionInfo": {
     "elapsed": 4035,
     "status": "ok",
     "timestamp": 1601314252338,
     "user": {
      "displayName": "Антон Геннадьевич Астахов",
      "photoUrl": "",
      "userId": "01331619065984010235"
     },
     "user_tz": -180
    },
    "id": "pxx-1uYs6Mi4",
    "outputId": "2f9cc86c-b672-4698-ed0c-09f4c9f1a99a"
   },
   "outputs": [
    {
     "data": {
      "text/plain": [
       "37"
      ]
     },
     "execution_count": 66,
     "metadata": {
      "tags": []
     },
     "output_type": "execute_result"
    }
   ],
   "source": [
    "(vector != 0).sum()"
   ]
  },
  {
   "cell_type": "code",
   "execution_count": 67,
   "metadata": {
    "executionInfo": {
     "elapsed": 764,
     "status": "ok",
     "timestamp": 1601314271179,
     "user": {
      "displayName": "Антон Геннадьевич Астахов",
      "photoUrl": "",
      "userId": "01331619065984010235"
     },
     "user_tz": -180
    },
    "id": "VsVQhR9y6Mj8"
   },
   "outputs": [],
   "source": [
    "import numpy as np\n",
    "from numpy.linalg import norm"
   ]
  },
  {
   "cell_type": "code",
   "execution_count": 68,
   "metadata": {
    "colab": {
     "base_uri": "https://localhost:8080/",
     "height": 35
    },
    "executionInfo": {
     "elapsed": 811,
     "status": "ok",
     "timestamp": 1601314271818,
     "user": {
      "displayName": "Антон Геннадьевич Астахов",
      "photoUrl": "",
      "userId": "01331619065984010235"
     },
     "user_tz": -180
    },
    "id": "ITsM5Lay6MkA",
    "outputId": "d7784b00-b823-4b81-d3b5-47d07ab52e03"
   },
   "outputs": [
    {
     "data": {
      "text/plain": [
       "scipy.sparse.csr.csr_matrix"
      ]
     },
     "execution_count": 68,
     "metadata": {
      "tags": []
     },
     "output_type": "execute_result"
    }
   ],
   "source": [
    "type(vectors)"
   ]
  },
  {
   "cell_type": "code",
   "execution_count": 69,
   "metadata": {
    "colab": {
     "base_uri": "https://localhost:8080/",
     "height": 35
    },
    "executionInfo": {
     "elapsed": 681,
     "status": "ok",
     "timestamp": 1601314273374,
     "user": {
      "displayName": "Антон Геннадьевич Астахов",
      "photoUrl": "",
      "userId": "01331619065984010235"
     },
     "user_tz": -180
    },
    "id": "qVu57HZA6MkE",
    "outputId": "dd0a05e1-a72a-4ed7-969c-a269759506c3"
   },
   "outputs": [
    {
     "data": {
      "text/plain": [
       "array([1, 3, 2, 0, 2, 0, 2, 1, 2, 1])"
      ]
     },
     "execution_count": 69,
     "metadata": {
      "tags": []
     },
     "output_type": "execute_result"
    }
   ],
   "source": [
    "newsgroups_train.target[:10]"
   ]
  },
  {
   "cell_type": "code",
   "execution_count": 70,
   "metadata": {
    "colab": {
     "base_uri": "https://localhost:8080/",
     "height": 35
    },
    "executionInfo": {
     "elapsed": 632,
     "status": "ok",
     "timestamp": 1601314276397,
     "user": {
      "displayName": "Антон Геннадьевич Астахов",
      "photoUrl": "",
      "userId": "01331619065984010235"
     },
     "user_tz": -180
    },
    "id": "lL6ftyv46MkJ",
    "outputId": "ea118865-ebf0-49c4-d83c-31964fdd60de"
   },
   "outputs": [
    {
     "data": {
      "text/plain": [
       "array([0, 1, 2, 3])"
      ]
     },
     "execution_count": 70,
     "metadata": {
      "tags": []
     },
     "output_type": "execute_result"
    }
   ],
   "source": [
    "np.unique(newsgroups_train.target)"
   ]
  },
  {
   "cell_type": "code",
   "execution_count": 71,
   "metadata": {
    "executionInfo": {
     "elapsed": 604,
     "status": "ok",
     "timestamp": 1601314286000,
     "user": {
      "displayName": "Антон Геннадьевич Астахов",
      "photoUrl": "",
      "userId": "01331619065984010235"
     },
     "user_tz": -180
    },
    "id": "tS2G0ZZC6MkN"
   },
   "outputs": [],
   "source": [
    "dense_vectors = vectors.todense()"
   ]
  },
  {
   "cell_type": "code",
   "execution_count": 72,
   "metadata": {
    "colab": {
     "base_uri": "https://localhost:8080/",
     "height": 35
    },
    "executionInfo": {
     "elapsed": 685,
     "status": "ok",
     "timestamp": 1601314288844,
     "user": {
      "displayName": "Антон Геннадьевич Астахов",
      "photoUrl": "",
      "userId": "01331619065984010235"
     },
     "user_tz": -180
    },
    "id": "Colf-H_p6MkQ",
    "outputId": "17380a06-1897-4796-cdc0-320a2f425acc",
    "scrolled": false
   },
   "outputs": [
    {
     "data": {
      "text/plain": [
       "(2034, 1000)"
      ]
     },
     "execution_count": 72,
     "metadata": {
      "tags": []
     },
     "output_type": "execute_result"
    }
   ],
   "source": [
    "dense_vectors.shape"
   ]
  },
  {
   "cell_type": "code",
   "execution_count": 73,
   "metadata": {
    "executionInfo": {
     "elapsed": 633,
     "status": "ok",
     "timestamp": 1601314321410,
     "user": {
      "displayName": "Антон Геннадьевич Астахов",
      "photoUrl": "",
      "userId": "01331619065984010235"
     },
     "user_tz": -180
    },
    "id": "LGgb5aP76MkU"
   },
   "outputs": [],
   "source": [
    "def cosine_sim(v1, v2):\n",
    "    # v1, v2 (1 x dim)\n",
    "    return np.array(v1 @ v2.T / norm(v1) / norm(v2))[0][0]"
   ]
  },
  {
   "cell_type": "code",
   "execution_count": 74,
   "metadata": {
    "colab": {
     "base_uri": "https://localhost:8080/",
     "height": 35
    },
    "executionInfo": {
     "elapsed": 617,
     "status": "ok",
     "timestamp": 1601314326138,
     "user": {
      "displayName": "Антон Геннадьевич Астахов",
      "photoUrl": "",
      "userId": "01331619065984010235"
     },
     "user_tz": -180
    },
    "id": "l_FrKM6k6MkY",
    "outputId": "78210c51-9351-441f-c32d-534494769516"
   },
   "outputs": [
    {
     "data": {
      "text/plain": [
       "1.0000000000000002"
      ]
     },
     "execution_count": 74,
     "metadata": {
      "tags": []
     },
     "output_type": "execute_result"
    }
   ],
   "source": [
    "cosine_sim(dense_vectors[0], dense_vectors[0])"
   ]
  },
  {
   "cell_type": "code",
   "execution_count": 75,
   "metadata": {
    "executionInfo": {
     "elapsed": 689,
     "status": "ok",
     "timestamp": 1601314350567,
     "user": {
      "displayName": "Антон Геннадьевич Астахов",
      "photoUrl": "",
      "userId": "01331619065984010235"
     },
     "user_tz": -180
    },
    "id": "L1XF-isH6Mkh"
   },
   "outputs": [],
   "source": [
    "cosines = []\n",
    "for i in range(10):\n",
    "    cosines.append(cosine_sim(dense_vectors[0], dense_vectors[i]))"
   ]
  },
  {
   "cell_type": "code",
   "execution_count": 76,
   "metadata": {
    "colab": {
     "base_uri": "https://localhost:8080/",
     "height": 195
    },
    "executionInfo": {
     "elapsed": 807,
     "status": "ok",
     "timestamp": 1601314352286,
     "user": {
      "displayName": "Антон Геннадьевич Астахов",
      "photoUrl": "",
      "userId": "01331619065984010235"
     },
     "user_tz": -180
    },
    "id": "ODwgYEbe6Mkl",
    "outputId": "25a82fee-833a-4e81-dd0d-e4a1341c13de"
   },
   "outputs": [
    {
     "data": {
      "text/plain": [
       "[1.0000000000000002,\n",
       " 0.012831116618462843,\n",
       " 0.0,\n",
       " 0.02901411919074219,\n",
       " 0.05098356842157866,\n",
       " 0.013365054451950215,\n",
       " 0.029853253009777425,\n",
       " 0.2247345611573304,\n",
       " 0.024458521266886704,\n",
       " 0.020883275103595455]"
      ]
     },
     "execution_count": 76,
     "metadata": {
      "tags": []
     },
     "output_type": "execute_result"
    }
   ],
   "source": [
    "# [1, 3, 2, 0, 2, 0, 2, 1, 2, 1]\n",
    "cosines"
   ]
  },
  {
   "cell_type": "markdown",
   "metadata": {
    "id": "SRZyJP3c6Mkq"
   },
   "source": [
    "#### Обучим любую известную модель на полученных признаках"
   ]
  },
  {
   "cell_type": "code",
   "execution_count": 77,
   "metadata": {
    "executionInfo": {
     "elapsed": 681,
     "status": "ok",
     "timestamp": 1601314435294,
     "user": {
      "displayName": "Антон Геннадьевич Астахов",
      "photoUrl": "",
      "userId": "01331619065984010235"
     },
     "user_tz": -180
    },
    "id": "4RDfl72A6Mks"
   },
   "outputs": [],
   "source": [
    "from sklearn.model_selection import train_test_split\n",
    "from sklearn import svm\n",
    "from sklearn.linear_model import SGDClassifier"
   ]
  },
  {
   "cell_type": "code",
   "execution_count": 78,
   "metadata": {
    "executionInfo": {
     "elapsed": 879,
     "status": "ok",
     "timestamp": 1601314436438,
     "user": {
      "displayName": "Антон Геннадьевич Астахов",
      "photoUrl": "",
      "userId": "01331619065984010235"
     },
     "user_tz": -180
    },
    "id": "sLbm515J6Mlb"
   },
   "outputs": [],
   "source": [
    "X_train, X_test, y_train, y_test= train_test_split(dense_vectors, newsgroups_train.target, test_size=0.2, random_state=0)"
   ]
  },
  {
   "cell_type": "code",
   "execution_count": 79,
   "metadata": {
    "colab": {
     "base_uri": "https://localhost:8080/",
     "height": 35
    },
    "executionInfo": {
     "elapsed": 711,
     "status": "ok",
     "timestamp": 1601314441993,
     "user": {
      "displayName": "Антон Геннадьевич Астахов",
      "photoUrl": "",
      "userId": "01331619065984010235"
     },
     "user_tz": -180
    },
    "id": "tXg3RgL76Mlf",
    "outputId": "cb83bace-6285-4c7e-a0cb-db498da2a9e1"
   },
   "outputs": [
    {
     "data": {
      "text/plain": [
       "((1627,), (407,))"
      ]
     },
     "execution_count": 79,
     "metadata": {
      "tags": []
     },
     "output_type": "execute_result"
    }
   ],
   "source": [
    "y_train.shape, y_test.shape"
   ]
  },
  {
   "cell_type": "code",
   "execution_count": 80,
   "metadata": {
    "colab": {
     "base_uri": "https://localhost:8080/",
     "height": 53
    },
    "executionInfo": {
     "elapsed": 6273,
     "status": "ok",
     "timestamp": 1601314451907,
     "user": {
      "displayName": "Антон Геннадьевич Астахов",
      "photoUrl": "",
      "userId": "01331619065984010235"
     },
     "user_tz": -180
    },
    "id": "vjfwduNp6Mlo",
    "outputId": "55ebbafe-0965-4c42-e591-728ac56e391b"
   },
   "outputs": [
    {
     "name": "stdout",
     "output_type": "stream",
     "text": [
      "CPU times: user 5.64 s, sys: 2.43 ms, total: 5.64 s\n",
      "Wall time: 5.66 s\n"
     ]
    }
   ],
   "source": [
    "%%time\n",
    "svc = svm.SVC()\n",
    "svc.fit(X_train, y_train)"
   ]
  },
  {
   "cell_type": "code",
   "execution_count": 81,
   "metadata": {
    "colab": {
     "base_uri": "https://localhost:8080/",
     "height": 35
    },
    "executionInfo": {
     "elapsed": 6627,
     "status": "ok",
     "timestamp": 1601314452839,
     "user": {
      "displayName": "Антон Геннадьевич Астахов",
      "photoUrl": "",
      "userId": "01331619065984010235"
     },
     "user_tz": -180
    },
    "id": "N6Evwipx6Mlv",
    "outputId": "ae8a7060-6cea-4ab7-a42a-9ac2663655ce"
   },
   "outputs": [
    {
     "data": {
      "text/plain": [
       "0.9361179361179361"
      ]
     },
     "execution_count": 81,
     "metadata": {
      "tags": []
     },
     "output_type": "execute_result"
    }
   ],
   "source": [
    "from sklearn.metrics import accuracy_score\n",
    "accuracy_score(y_test, svc.predict(X_test))"
   ]
  },
  {
   "cell_type": "code",
   "execution_count": 82,
   "metadata": {
    "colab": {
     "base_uri": "https://localhost:8080/",
     "height": 35
    },
    "executionInfo": {
     "elapsed": 965,
     "status": "ok",
     "timestamp": 1601314502271,
     "user": {
      "displayName": "Антон Геннадьевич Астахов",
      "photoUrl": "",
      "userId": "01331619065984010235"
     },
     "user_tz": -180
    },
    "id": "6EBZRbXT6Mly",
    "outputId": "7cc7a218-d44a-425b-974b-d3cb65e94c37"
   },
   "outputs": [
    {
     "data": {
      "text/plain": [
       "0.914004914004914"
      ]
     },
     "execution_count": 82,
     "metadata": {
      "tags": []
     },
     "output_type": "execute_result"
    }
   ],
   "source": [
    "sgd = SGDClassifier()\n",
    "sgd.fit(X_train, y_train)\n",
    "accuracy_score(y_test, sgd.predict(X_test))"
   ]
  },
  {
   "cell_type": "markdown",
   "metadata": {
    "id": "w57AAm6FpwE5"
   },
   "source": [
    "### Byte Pair Encoding"
   ]
  },
  {
   "cell_type": "markdown",
   "metadata": {
    "id": "_vcZRJkk2gyo"
   },
   "source": [
    "<img src=\"https://alexanderdyakonov.files.wordpress.com/2019/11/bpe.jpg\">"
   ]
  },
  {
   "cell_type": "markdown",
   "metadata": {
    "id": "vft25S602cb6"
   },
   "source": [
    "#### Реализация"
   ]
  },
  {
   "cell_type": "code",
   "execution_count": 83,
   "metadata": {
    "colab": {
     "base_uri": "https://localhost:8080/",
     "height": 144
    },
    "executionInfo": {
     "elapsed": 4683,
     "status": "ok",
     "timestamp": 1601314797197,
     "user": {
      "displayName": "Антон Геннадьевич Астахов",
      "photoUrl": "",
      "userId": "01331619065984010235"
     },
     "user_tz": -180
    },
    "id": "eTS0_LfsmUCY",
    "outputId": "ce1dccd5-b44f-4d71-909d-9769d8d8e360"
   },
   "outputs": [
    {
     "name": "stdout",
     "output_type": "stream",
     "text": [
      "Collecting youtokentome\n",
      "\u001b[?25l  Downloading https://files.pythonhosted.org/packages/a3/65/4a86cf99da3f680497ae132329025b291e2fda22327e8da6a9476e51acb1/youtokentome-1.0.6-cp36-cp36m-manylinux2010_x86_64.whl (1.7MB)\n",
      "\u001b[K     |████████████████████████████████| 1.7MB 2.8MB/s \n",
      "\u001b[?25hRequirement already satisfied: Click>=7.0 in /usr/local/lib/python3.6/dist-packages (from youtokentome) (7.1.2)\n",
      "Installing collected packages: youtokentome\n",
      "Successfully installed youtokentome-1.0.6\n"
     ]
    }
   ],
   "source": [
    "!pip install youtokentome"
   ]
  },
  {
   "cell_type": "code",
   "execution_count": 84,
   "metadata": {
    "executionInfo": {
     "elapsed": 8948,
     "status": "ok",
     "timestamp": 1601314856841,
     "user": {
      "displayName": "Антон Геннадьевич Астахов",
      "photoUrl": "",
      "userId": "01331619065984010235"
     },
     "user_tz": -180
    },
    "id": "60TU662LmLw1"
   },
   "outputs": [],
   "source": [
    "import youtokentome as yttm\n",
    "\n",
    "def train_bpe(records, preproc, model_path, model_type=\"bpe\", vocab_size=10000, lower=True):\n",
    "    temp_file_name = \"temp.txt\"\n",
    "    with open(temp_file_name, \"w\") as temp:\n",
    "        for text in records:\n",
    "            temp.write(preproc(text) + \"\\n\")\n",
    "\n",
    "    yttm.BPE.train(data=temp_file_name, vocab_size=vocab_size, model=model_path)\n",
    "\n",
    "train_bpe(records=newsgroups_train.data, preproc=preproc1, model_path=\"BPE_model.bin\")"
   ]
  },
  {
   "cell_type": "code",
   "execution_count": 85,
   "metadata": {
    "colab": {
     "base_uri": "https://localhost:8080/",
     "height": 195
    },
    "executionInfo": {
     "elapsed": 734,
     "status": "ok",
     "timestamp": 1601314946309,
     "user": {
      "displayName": "Антон Геннадьевич Астахов",
      "photoUrl": "",
      "userId": "01331619065984010235"
     },
     "user_tz": -180
    },
    "id": "Yl1fg97tsxMO",
    "outputId": "e14f9668-e099-4ea1-e35c-320478d638c8"
   },
   "outputs": [
    {
     "data": {
      "text/plain": [
       "['<PAD>',\n",
       " '▁dep',\n",
       " '.g',\n",
       " '▁thread',\n",
       " '82',\n",
       " 'abit',\n",
       " 'ori',\n",
       " '▁ppm',\n",
       " '.ins.cwru.edu',\n",
       " '▁well.sf.ca.us']"
      ]
     },
     "execution_count": 85,
     "metadata": {
      "tags": []
     },
     "output_type": "execute_result"
    }
   ],
   "source": [
    "bpe_processor = yttm.BPE('BPE_model.bin')\n",
    "bpe_processor.vocab()[::1000]"
   ]
  },
  {
   "cell_type": "code",
   "execution_count": 86,
   "metadata": {
    "colab": {
     "base_uri": "https://localhost:8080/",
     "height": 479
    },
    "executionInfo": {
     "elapsed": 709,
     "status": "ok",
     "timestamp": 1601315005452,
     "user": {
      "displayName": "Антон Геннадьевич Астахов",
      "photoUrl": "",
      "userId": "01331619065984010235"
     },
     "user_tz": -180
    },
    "id": "PYTbEWpjukIZ",
    "outputId": "806947fb-29cd-4df0-c1dc-d7caa3eab847"
   },
   "outputs": [
    {
     "name": "stdout",
     "output_type": "stream",
     "text": [
      "From: rych@festival.ed.ac.uk (R Hawkes)\n",
      "Subject: 3DS: Where did all the texture rules go?\n",
      "Lines: 21\n",
      "\n",
      "Hi,\n",
      "\n",
      "I've noticed that if you only save a model (with all your mapping planes\n",
      "positioned carefully) to a .3DS file that when you reload it after restarting\n",
      "3DS, they are given a default position and orientation.  But if you save\n",
      "to a .PRJ file their positions/orientation are preserved.  Does anyone\n",
      "know why this information is not stored in the .3DS file?  Nothing is\n",
      "explicitly said in the manual about saving texture rules in the .PRJ file. \n",
      "I'd like to be able to read the texture rule information, does anyone have \n",
      "the format for the .PRJ file?\n",
      "\n",
      "Is the .CEL file format available from somewhere?\n",
      "\n",
      "Rych\n",
      "\n",
      "======================================================================\n",
      "Rycharde Hawkes\t\t\t\temail: rych@festival.ed.ac.uk\n",
      "Virtual Environment Laboratory\n",
      "Dept. of Psychology\t\t\tTel  : +44 31 650 3426\n",
      "Univ. of Edinburgh\t\t\tFax  : +44 31 667 0150\n",
      "======================================================================\n",
      "\n"
     ]
    }
   ],
   "source": [
    "print(newsgroups_train.data[0])"
   ]
  },
  {
   "cell_type": "code",
   "execution_count": 89,
   "metadata": {
    "colab": {
     "base_uri": "https://localhost:8080/",
     "height": 124
    },
    "executionInfo": {
     "elapsed": 859,
     "status": "ok",
     "timestamp": 1601315062273,
     "user": {
      "displayName": "Антон Геннадьевич Астахов",
      "photoUrl": "",
      "userId": "01331619065984010235"
     },
     "user_tz": -180
    },
    "id": "VPXbMponvnPW",
    "outputId": "c2c5a6c9-704b-4c50-93f0-e8a68722c0ad"
   },
   "outputs": [
    {
     "data": {
      "application/vnd.google.colaboratory.intrinsic+json": {
       "type": "string"
      },
      "text/plain": [
       "\"▁:▁rych▁@▁festival.ed.ac.uk▁(▁r▁hawkes▁)▁subject▁:▁3d▁:▁texture▁rule▁go▁?▁line▁:▁21▁hi▁,▁'ve▁noticed▁save▁model▁(▁mapping▁plane▁positioned▁carefully▁)▁.3ds▁file▁reload▁restarting▁3d▁,▁given▁default▁position▁orientation▁.▁save▁.prj▁file▁positions/orientation▁preserved▁.▁anyone▁know▁information▁stored▁.3ds▁file▁?▁nothing▁explicitly▁said▁manual▁saving▁texture▁rule▁.prj▁file▁.▁'d▁like▁able▁read▁texture▁rule▁information▁,▁anyone▁format▁.prj▁file▁?▁.cel▁file▁format▁available▁somewhere▁?▁rych▁======================================================================▁rycharde▁hawkes▁email▁:▁rych▁@▁festival.ed.ac.uk▁virtual▁environment▁laboratory▁dept▁.▁psychology▁tel▁:▁+44▁31▁650▁3426▁univ▁.▁edinburgh▁fax▁:▁+44▁31▁667▁0150▁======================================================================\""
      ]
     },
     "execution_count": 89,
     "metadata": {
      "tags": []
     },
     "output_type": "execute_result"
    }
   ],
   "source": [
    "''.join(bpe_processor.encode(preproc1(newsgroups_train.data[0]), output_type=yttm.OutputType.SUBWORD))"
   ]
  },
  {
   "cell_type": "code",
   "execution_count": 90,
   "metadata": {
    "executionInfo": {
     "elapsed": 821,
     "status": "ok",
     "timestamp": 1601315159856,
     "user": {
      "displayName": "Антон Геннадьевич Астахов",
      "photoUrl": "",
      "userId": "01331619065984010235"
     },
     "user_tz": -180
    },
    "id": "GbaPdQU2yN5k"
   },
   "outputs": [],
   "source": [
    "def our_tokenize(text):\n",
    "    preproc_text = preproc1(text)\n",
    "    return bpe_processor.encode(preproc_text, output_type=yttm.OutputType.SUBWORD)"
   ]
  },
  {
   "cell_type": "code",
   "execution_count": 91,
   "metadata": {
    "executionInfo": {
     "elapsed": 14810,
     "status": "ok",
     "timestamp": 1601315207077,
     "user": {
      "displayName": "Антон Геннадьевич Астахов",
      "photoUrl": "",
      "userId": "01331619065984010235"
     },
     "user_tz": -180
    },
    "id": "l7cDE0fO1QDU"
   },
   "outputs": [],
   "source": [
    "vectorizer = TfidfVectorizer(tokenizer=our_tokenize, ngram_range=(1, 3), min_df=0.3, max_features=3000)\n",
    "vectors = vectorizer.fit_transform(newsgroups_train.data)"
   ]
  },
  {
   "cell_type": "code",
   "execution_count": 92,
   "metadata": {
    "colab": {
     "base_uri": "https://localhost:8080/",
     "height": 195
    },
    "executionInfo": {
     "elapsed": 14254,
     "status": "ok",
     "timestamp": 1601315207089,
     "user": {
      "displayName": "Антон Геннадьевич Астахов",
      "photoUrl": "",
      "userId": "01331619065984010235"
     },
     "user_tz": -180
    },
    "id": "vEvf6Qy21U2x",
    "outputId": "eccdfa7c-6732-426c-91ab-0370ab729fff"
   },
   "outputs": [
    {
     "data": {
      "text/plain": [
       "['ed',\n",
       " \"▁'s\",\n",
       " '▁) ▁writes',\n",
       " '▁.',\n",
       " '▁: ▁>',\n",
       " '▁@',\n",
       " '▁like',\n",
       " '▁nntp-posting-host ▁:',\n",
       " '▁subject ▁:',\n",
       " '▁writes ▁:']"
      ]
     },
     "execution_count": 92,
     "metadata": {
      "tags": []
     },
     "output_type": "execute_result"
    }
   ],
   "source": [
    "vectorizer.get_feature_names()[::5]"
   ]
  },
  {
   "cell_type": "code",
   "execution_count": 93,
   "metadata": {
    "colab": {
     "base_uri": "https://localhost:8080/",
     "height": 35
    },
    "executionInfo": {
     "elapsed": 14955,
     "status": "ok",
     "timestamp": 1601315291778,
     "user": {
      "displayName": "Антон Геннадьевич Астахов",
      "photoUrl": "",
      "userId": "01331619065984010235"
     },
     "user_tz": -180
    },
    "id": "gO70vwhouMC9",
    "outputId": "d3c26ab0-399b-4c90-9eba-420cc617ab41"
   },
   "outputs": [
    {
     "data": {
      "text/plain": [
       "(2034, 3000)"
      ]
     },
     "execution_count": 93,
     "metadata": {
      "tags": []
     },
     "output_type": "execute_result"
    }
   ],
   "source": [
    "vectorizer = TfidfVectorizer(tokenizer=our_tokenize, ngram_range=(1, 3), max_df=0.3, max_features=3000)\n",
    "vectors = vectorizer.fit_transform(newsgroups_train.data)\n",
    "vectors.shape"
   ]
  },
  {
   "cell_type": "code",
   "execution_count": 94,
   "metadata": {
    "colab": {
     "base_uri": "https://localhost:8080/",
     "height": 550
    },
    "executionInfo": {
     "elapsed": 14676,
     "status": "ok",
     "timestamp": 1601315291793,
     "user": {
      "displayName": "Антон Геннадьевич Астахов",
      "photoUrl": "",
      "userId": "01331619065984010235"
     },
     "user_tz": -180
    },
    "id": "YMiR1bN8y8yw",
    "outputId": "fdac5ecd-5f43-4305-b957-b39fc51337ee"
   },
   "outputs": [
    {
     "data": {
      "text/plain": [
       "[\"'\",\n",
       " '2 ▁@',\n",
       " 'ak',\n",
       " 'er ▁,',\n",
       " 'ized',\n",
       " 'pr',\n",
       " 'ved',\n",
       " '▁) ▁,',\n",
       " '▁, ▁still',\n",
       " '▁. ▁| ▁>',\n",
       " '▁: ▁20',\n",
       " '▁> ▁}',\n",
       " '▁aerospace',\n",
       " '▁attempt',\n",
       " '▁capability',\n",
       " '▁contradiction',\n",
       " '▁disk',\n",
       " '▁fairly',\n",
       " '▁god ▁.',\n",
       " '▁in-reply-to ▁:',\n",
       " '▁kmr4',\n",
       " '▁lunar',\n",
       " '▁must',\n",
       " '▁output',\n",
       " '▁present',\n",
       " '▁report',\n",
       " '▁sens',\n",
       " '▁state',\n",
       " '▁titan',\n",
       " '▁w']"
      ]
     },
     "execution_count": 94,
     "metadata": {
      "tags": []
     },
     "output_type": "execute_result"
    }
   ],
   "source": [
    "vectorizer.get_feature_names()[::100]"
   ]
  },
  {
   "cell_type": "code",
   "execution_count": 101,
   "metadata": {
    "executionInfo": {
     "elapsed": 1118,
     "status": "ok",
     "timestamp": 1601315497197,
     "user": {
      "displayName": "Антон Геннадьевич Астахов",
      "photoUrl": "",
      "userId": "01331619065984010235"
     },
     "user_tz": -180
    },
    "id": "WEpu9A2y10Zc"
   },
   "outputs": [],
   "source": [
    "vector = vectors.todense()[1]"
   ]
  },
  {
   "cell_type": "code",
   "execution_count": 102,
   "metadata": {
    "colab": {
     "base_uri": "https://localhost:8080/",
     "height": 35
    },
    "executionInfo": {
     "elapsed": 835,
     "status": "ok",
     "timestamp": 1601315497593,
     "user": {
      "displayName": "Антон Геннадьевич Астахов",
      "photoUrl": "",
      "userId": "01331619065984010235"
     },
     "user_tz": -180
    },
    "id": "O56UZ3PP10Z-",
    "outputId": "55bab4ad-6c56-4711-f36a-7c1666aab063"
   },
   "outputs": [
    {
     "data": {
      "text/plain": [
       "113"
      ]
     },
     "execution_count": 102,
     "metadata": {
      "tags": []
     },
     "output_type": "execute_result"
    }
   ],
   "source": [
    "(vector != 0).sum()"
   ]
  },
  {
   "cell_type": "code",
   "execution_count": 95,
   "metadata": {
    "executionInfo": {
     "elapsed": 827,
     "status": "ok",
     "timestamp": 1601315340339,
     "user": {
      "displayName": "Антон Геннадьевич Астахов",
      "photoUrl": "",
      "userId": "01331619065984010235"
     },
     "user_tz": -180
    },
    "id": "Z1-6F_c5zl2-"
   },
   "outputs": [],
   "source": [
    "dense_vectors = vectors.todense()\n",
    "X_train, X_test, y_train, y_test= train_test_split(dense_vectors, newsgroups_train.target, test_size=0.2, random_state=0)"
   ]
  },
  {
   "cell_type": "code",
   "execution_count": 96,
   "metadata": {
    "colab": {
     "base_uri": "https://localhost:8080/",
     "height": 35
    },
    "executionInfo": {
     "elapsed": 560,
     "status": "ok",
     "timestamp": 1601315340762,
     "user": {
      "displayName": "Антон Геннадьевич Астахов",
      "photoUrl": "",
      "userId": "01331619065984010235"
     },
     "user_tz": -180
    },
    "id": "3IdtpAPYzl3M",
    "outputId": "6f11ebc5-d3e5-4972-9e41-3a8b3b148a4a"
   },
   "outputs": [
    {
     "data": {
      "text/plain": [
       "((1627,), (407,))"
      ]
     },
     "execution_count": 96,
     "metadata": {
      "tags": []
     },
     "output_type": "execute_result"
    }
   ],
   "source": [
    "y_train.shape, y_test.shape"
   ]
  },
  {
   "cell_type": "code",
   "execution_count": 97,
   "metadata": {
    "colab": {
     "base_uri": "https://localhost:8080/",
     "height": 53
    },
    "executionInfo": {
     "elapsed": 19532,
     "status": "ok",
     "timestamp": 1601315365612,
     "user": {
      "displayName": "Антон Геннадьевич Астахов",
      "photoUrl": "",
      "userId": "01331619065984010235"
     },
     "user_tz": -180
    },
    "id": "8iWhk8A-zl3Y",
    "outputId": "67b31dbc-96ba-4e11-8268-b283d75c7dd7"
   },
   "outputs": [
    {
     "name": "stdout",
     "output_type": "stream",
     "text": [
      "CPU times: user 18.8 s, sys: 5.24 ms, total: 18.8 s\n",
      "Wall time: 18.8 s\n"
     ]
    }
   ],
   "source": [
    "%%time\n",
    "svc = svm.SVC()\n",
    "svc.fit(X_train, y_train)"
   ]
  },
  {
   "cell_type": "code",
   "execution_count": 98,
   "metadata": {
    "colab": {
     "base_uri": "https://localhost:8080/",
     "height": 35
    },
    "executionInfo": {
     "elapsed": 13932,
     "status": "ok",
     "timestamp": 1601315368602,
     "user": {
      "displayName": "Антон Геннадьевич Астахов",
      "photoUrl": "",
      "userId": "01331619065984010235"
     },
     "user_tz": -180
    },
    "id": "qe2ODPM7zl3k",
    "outputId": "f9400577-9310-4fe9-cd24-db450550f54d"
   },
   "outputs": [
    {
     "data": {
      "text/plain": [
       "0.8845208845208845"
      ]
     },
     "execution_count": 98,
     "metadata": {
      "tags": []
     },
     "output_type": "execute_result"
    }
   ],
   "source": [
    "from sklearn.metrics import accuracy_score\n",
    "accuracy_score(y_test, svc.predict(X_test))"
   ]
  },
  {
   "cell_type": "code",
   "execution_count": 99,
   "metadata": {
    "colab": {
     "base_uri": "https://localhost:8080/",
     "height": 35
    },
    "executionInfo": {
     "elapsed": 1232,
     "status": "ok",
     "timestamp": 1601315372205,
     "user": {
      "displayName": "Антон Геннадьевич Астахов",
      "photoUrl": "",
      "userId": "01331619065984010235"
     },
     "user_tz": -180
    },
    "id": "Ujrbds1Czl3t",
    "outputId": "48ce205f-844d-4931-c6c6-c7c333f77048"
   },
   "outputs": [
    {
     "data": {
      "text/plain": [
       "0.9213759213759214"
      ]
     },
     "execution_count": 99,
     "metadata": {
      "tags": []
     },
     "output_type": "execute_result"
    }
   ],
   "source": [
    "sgd = SGDClassifier()\n",
    "sgd.fit(X_train, y_train)\n",
    "accuracy_score(y_test, sgd.predict(X_test))"
   ]
  },
  {
   "cell_type": "code",
   "execution_count": null,
   "metadata": {
    "id": "6aJqTmbK1GC3"
   },
   "outputs": [],
   "source": []
  }
 ],
 "metadata": {
  "colab": {
   "collapsed_sections": [],
   "name": "[seminar]text_preprocessing.ipynb",
   "provenance": [
    {
     "file_id": "1SU-z_9lZbAeiV0RONKiRPT7cnjm2pEk6",
     "timestamp": 1601292195692
    }
   ]
  },
  "kernelspec": {
   "display_name": "Python 3",
   "language": "python",
   "name": "python3"
  },
  "language_info": {
   "codemirror_mode": {
    "name": "ipython",
    "version": 3
   },
   "file_extension": ".py",
   "mimetype": "text/x-python",
   "name": "python",
   "nbconvert_exporter": "python",
   "pygments_lexer": "ipython3",
   "version": "3.8.3"
  },
  "toc": {
   "base_numbering": 1,
   "nav_menu": {
    "height": "11.8333px",
    "width": "160px"
   },
   "number_sections": false,
   "sideBar": true,
   "skip_h1_title": false,
   "title_cell": "Table of Contents",
   "title_sidebar": "Contents",
   "toc_cell": false,
   "toc_position": {
    "height": "calc(100% - 180px)",
    "left": "10px",
    "top": "150px",
    "width": "339.717px"
   },
   "toc_section_display": true,
   "toc_window_display": false
  },
  "varInspector": {
   "cols": {
    "lenName": 16,
    "lenType": 16,
    "lenVar": 40
   },
   "kernels_config": {
    "python": {
     "delete_cmd_postfix": "",
     "delete_cmd_prefix": "del ",
     "library": "var_list.py",
     "varRefreshCmd": "print(var_dic_list())"
    },
    "r": {
     "delete_cmd_postfix": ") ",
     "delete_cmd_prefix": "rm(",
     "library": "var_list.r",
     "varRefreshCmd": "cat(var_dic_list()) "
    }
   },
   "types_to_exclude": [
    "module",
    "function",
    "builtin_function_or_method",
    "instance",
    "_Feature"
   ],
   "window_display": false
  }
 },
 "nbformat": 4,
 "nbformat_minor": 1
}
